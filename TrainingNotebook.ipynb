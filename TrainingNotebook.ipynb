{
 "cells": [
  {
   "cell_type": "code",
   "execution_count": 1,
   "id": "transsexual-memphis",
   "metadata": {},
   "outputs": [
    {
     "name": "stdout",
     "output_type": "stream",
     "text": [
      "Successfully converted xml to csv.\n",
      "Successfully converted xml to csv.\n"
     ]
    }
   ],
   "source": [
    "! python xml_to_csv.py"
   ]
  },
  {
   "cell_type": "code",
   "execution_count": 7,
   "id": "thirty-class",
   "metadata": {},
   "outputs": [
    {
     "name": "stdout",
     "output_type": "stream",
     "text": [
      "WARNING:tensorflow:From generate_tfrecord.py:97: The name tf.app.run is deprecated. Please use tf.compat.v1.app.run instead.\n",
      "\n",
      "WARNING:tensorflow:From generate_tfrecord.py:83: The name tf.python_io.TFRecordWriter is deprecated. Please use tf.io.TFRecordWriter instead.\n",
      "\n",
      "W0406 12:17:15.162646 140498566563648 module_wrapper.py:139] From generate_tfrecord.py:83: The name tf.python_io.TFRecordWriter is deprecated. Please use tf.io.TFRecordWriter instead.\n",
      "\n",
      "WARNING:tensorflow:From generate_tfrecord.py:42: The name tf.gfile.GFile is deprecated. Please use tf.io.gfile.GFile instead.\n",
      "\n",
      "W0406 12:17:15.517317 140498566563648 module_wrapper.py:139] From generate_tfrecord.py:42: The name tf.gfile.GFile is deprecated. Please use tf.io.gfile.GFile instead.\n",
      "\n",
      "Successfully created the TFRecords: /home/jake/obj_det/train.record\n",
      "WARNING:tensorflow:From generate_tfrecord.py:97: The name tf.app.run is deprecated. Please use tf.compat.v1.app.run instead.\n",
      "\n",
      "WARNING:tensorflow:From generate_tfrecord.py:83: The name tf.python_io.TFRecordWriter is deprecated. Please use tf.io.TFRecordWriter instead.\n",
      "\n",
      "W0406 12:17:18.689145 140441058432832 module_wrapper.py:139] From generate_tfrecord.py:83: The name tf.python_io.TFRecordWriter is deprecated. Please use tf.io.TFRecordWriter instead.\n",
      "\n",
      "WARNING:tensorflow:From generate_tfrecord.py:42: The name tf.gfile.GFile is deprecated. Please use tf.io.gfile.GFile instead.\n",
      "\n",
      "W0406 12:17:18.831716 140441058432832 module_wrapper.py:139] From generate_tfrecord.py:42: The name tf.gfile.GFile is deprecated. Please use tf.io.gfile.GFile instead.\n",
      "\n",
      "Successfully created the TFRecords: /home/jake/obj_det/test.record\n"
     ]
    }
   ],
   "source": [
    "! python generate_tfrecord.py --csv_input=images/train_labels.csv --image_dir=images/train --output_path=train.record\n",
    "! python generate_tfrecord.py --csv_input=images/test_labels.csv --image_dir=images/test --output_path=test.record"
   ]
  },
  {
   "cell_type": "code",
   "execution_count": null,
   "id": "forty-creation",
   "metadata": {},
   "outputs": [],
   "source": [
    "! python models/research/object_detection/model_main.py --logtostderr --model_dir=training/ --pipeline_config_path=pipeline.config --num_train_steps=500 --num_eval_steps=100"
   ]
  },
  {
   "cell_type": "code",
   "execution_count": null,
   "id": "stuck-shift",
   "metadata": {},
   "outputs": [],
   "source": [
    "!python models/research/object_detection/export_inference_graph.py --input_type image_tensor --pipeline_config_path pipeline.config --trained_checkpoint_prefix training/model.ckpt-500 --output_directory inference_graph"
   ]
  },
  {
   "cell_type": "code",
   "execution_count": null,
   "id": "external-junction",
   "metadata": {},
   "outputs": [],
   "source": [
    "!python models/research/object_detection/export_tflite_ssd_graph.py --pipeline_config_path pipeline.config --trained_checkpoint_prefix training/model.ckpt-500 --output_directory exported_model_directory"
   ]
  },
  {
   "cell_type": "code",
   "execution_count": 8,
   "id": "ranging-wrestling",
   "metadata": {},
   "outputs": [
    {
     "name": "stdout",
     "output_type": "stream",
     "text": [
      "2021-04-07 14:14:12.774640: I tensorflow/stream_executor/platform/default/dso_loader.cc:44] Successfully opened dynamic library libcuda.so.1\n",
      "2021-04-07 14:14:12.797084: I tensorflow/stream_executor/cuda/cuda_gpu_executor.cc:983] successful NUMA node read from SysFS had negative value (-1), but there must be at least one NUMA node, so returning NUMA node zero\n",
      "2021-04-07 14:14:12.797610: I tensorflow/core/common_runtime/gpu/gpu_device.cc:1618] Found device 0 with properties: \n",
      "name: GeForce GTX 1050 Ti major: 6 minor: 1 memoryClockRate(GHz): 1.62\n",
      "pciBusID: 0000:01:00.0\n",
      "2021-04-07 14:14:12.797688: W tensorflow/stream_executor/platform/default/dso_loader.cc:55] Could not load dynamic library 'libcudart.so.10.0'; dlerror: libcudart.so.10.0: cannot open shared object file: No such file or directory\n",
      "2021-04-07 14:14:12.797733: W tensorflow/stream_executor/platform/default/dso_loader.cc:55] Could not load dynamic library 'libcublas.so.10.0'; dlerror: libcublas.so.10.0: cannot open shared object file: No such file or directory\n",
      "2021-04-07 14:14:12.797776: W tensorflow/stream_executor/platform/default/dso_loader.cc:55] Could not load dynamic library 'libcufft.so.10.0'; dlerror: libcufft.so.10.0: cannot open shared object file: No such file or directory\n",
      "2021-04-07 14:14:12.797837: W tensorflow/stream_executor/platform/default/dso_loader.cc:55] Could not load dynamic library 'libcurand.so.10.0'; dlerror: libcurand.so.10.0: cannot open shared object file: No such file or directory\n",
      "2021-04-07 14:14:12.797931: W tensorflow/stream_executor/platform/default/dso_loader.cc:55] Could not load dynamic library 'libcusolver.so.10.0'; dlerror: libcusolver.so.10.0: cannot open shared object file: No such file or directory\n",
      "2021-04-07 14:14:12.797973: W tensorflow/stream_executor/platform/default/dso_loader.cc:55] Could not load dynamic library 'libcusparse.so.10.0'; dlerror: libcusparse.so.10.0: cannot open shared object file: No such file or directory\n",
      "2021-04-07 14:14:12.798015: W tensorflow/stream_executor/platform/default/dso_loader.cc:55] Could not load dynamic library 'libcudnn.so.7'; dlerror: libcudnn.so.7: cannot open shared object file: No such file or directory\n",
      "2021-04-07 14:14:12.798023: W tensorflow/core/common_runtime/gpu/gpu_device.cc:1641] Cannot dlopen some GPU libraries. Please make sure the missing libraries mentioned above are installed properly if you would like to use GPU. Follow the guide at https://www.tensorflow.org/install/gpu for how to download and setup the required libraries for your platform.\n",
      "Skipping registering GPU devices...\n",
      "2021-04-07 14:14:12.798227: I tensorflow/core/platform/cpu_feature_guard.cc:142] Your CPU supports instructions that this TensorFlow binary was not compiled to use: AVX2 FMA\n",
      "2021-04-07 14:14:12.802737: I tensorflow/core/platform/profile_utils/cpu_utils.cc:94] CPU Frequency: 2299965000 Hz\n",
      "2021-04-07 14:14:12.803060: I tensorflow/compiler/xla/service/service.cc:168] XLA service 0x40e4e10 initialized for platform Host (this does not guarantee that XLA will be used). Devices:\n",
      "2021-04-07 14:14:12.803077: I tensorflow/compiler/xla/service/service.cc:176]   StreamExecutor device (0): Host, Default Version\n",
      "2021-04-07 14:14:12.857772: I tensorflow/stream_executor/cuda/cuda_gpu_executor.cc:983] successful NUMA node read from SysFS had negative value (-1), but there must be at least one NUMA node, so returning NUMA node zero\n",
      "2021-04-07 14:14:12.858200: I tensorflow/compiler/xla/service/service.cc:168] XLA service 0x4167670 initialized for platform CUDA (this does not guarantee that XLA will be used). Devices:\n",
      "2021-04-07 14:14:12.858219: I tensorflow/compiler/xla/service/service.cc:176]   StreamExecutor device (0): GeForce GTX 1050 Ti, Compute Capability 6.1\n",
      "2021-04-07 14:14:12.858304: I tensorflow/core/common_runtime/gpu/gpu_device.cc:1159] Device interconnect StreamExecutor with strength 1 edge matrix:\n",
      "2021-04-07 14:14:12.858314: I tensorflow/core/common_runtime/gpu/gpu_device.cc:1165]      \n"
     ]
    }
   ],
   "source": [
    "! tflite_convert --graph_def_file=tflite/tflite_graph.pb --output_file=tflite/detect.tflite --output_format=TFLITE --input_shapes=1,300,300,3 --input_arrays=normalized_input_image_tensor --output_arrays='TFLite_Detection_PostProcess','TFLite_Detection_PostProcess:1','TFLite_Detection_PostProcess:2','TFLite_Detection_PostProcess:3' --inference_type=QUANTIZED_UINT8 --mean_values=128 --std_dev_values=127 --change_concat_input_ranges=false --allow_custom_ops"
   ]
  },
  {
   "cell_type": "code",
   "execution_count": 16,
   "id": "continent-modem",
   "metadata": {},
   "outputs": [
    {
     "name": "stdout",
     "output_type": "stream",
     "text": [
      "WARNING:tensorflow:From models/research/object_detection/export_tflite_ssd_graph.py:143: The name tf.app.run is deprecated. Please use tf.compat.v1.app.run instead.\n",
      "\n",
      "WARNING:tensorflow:From models/research/object_detection/export_tflite_ssd_graph.py:133: The name tf.gfile.GFile is deprecated. Please use tf.io.gfile.GFile instead.\n",
      "\n",
      "W0407 15:17:37.114944 140535222699840 module_wrapper.py:139] From models/research/object_detection/export_tflite_ssd_graph.py:133: The name tf.gfile.GFile is deprecated. Please use tf.io.gfile.GFile instead.\n",
      "\n",
      "Traceback (most recent call last):\n",
      "  File \"models/research/object_detection/export_tflite_ssd_graph.py\", line 143, in <module>\n",
      "    tf.app.run(main)\n",
      "  File \"/home/jake/.virtualenvs/tf1/lib/python3.6/site-packages/tensorflow_core/python/platform/app.py\", line 40, in run\n",
      "    _run(main=main, argv=argv, flags_parser=_parse_flags_tolerate_undef)\n",
      "  File \"/home/jake/.virtualenvs/tf1/lib/python3.6/site-packages/absl/app.py\", line 303, in run\n",
      "    _run_main(main, args)\n",
      "  File \"/home/jake/.virtualenvs/tf1/lib/python3.6/site-packages/absl/app.py\", line 251, in _run_main\n",
      "    sys.exit(main(argv))\n",
      "  File \"models/research/object_detection/export_tflite_ssd_graph.py\", line 139, in main\n",
      "    FLAGS.max_classes_per_detection, FLAGS.use_regular_nms)\n",
      "  File \"/home/jake/.virtualenvs/tf1/lib/python3.6/site-packages/object_detection/export_tflite_ssd_graph_lib.py\", line 201, in export_tflite_graph\n",
      "    pipeline_config.model.WhichOneof('model')))\n",
      "ValueError: Only ssd models are supported in tflite. Found faster_rcnn in config\n"
     ]
    }
   ],
   "source": [
    "!python models/research/object_detection/export_tflite_ssd_graph.py --pipeline_config_path rcnn.config --trained_checkpoint_prefix trainingRCNN/model.ckpt-2388 --output_directory tflite-rcnn\n"
   ]
  },
  {
   "cell_type": "code",
   "execution_count": null,
   "id": "still-crazy",
   "metadata": {},
   "outputs": [
    {
     "name": "stdout",
     "output_type": "stream",
     "text": [
      "W0407 17:02:03.452978 140618841331456 plugin_event_accumulator.py:294] Found more than one graph event per run, or there was a metagraph containing a graph_def, as well as one or more graph events.  Overwriting the graph with the newest event.\n",
      "W0407 17:02:03.497829 140618841331456 plugin_event_accumulator.py:302] Found more than one metagraph event per run. Overwriting the metagraph with the newest event.\n",
      "W0407 17:02:03.567978 140618841331456 plugin_event_accumulator.py:294] Found more than one graph event per run, or there was a metagraph containing a graph_def, as well as one or more graph events.  Overwriting the graph with the newest event.\n",
      "W0407 17:02:03.626903 140618841331456 plugin_event_accumulator.py:302] Found more than one metagraph event per run. Overwriting the metagraph with the newest event.\n",
      "W0407 17:02:03.689578 140618841331456 plugin_event_accumulator.py:294] Found more than one graph event per run, or there was a metagraph containing a graph_def, as well as one or more graph events.  Overwriting the graph with the newest event.\n",
      "TensorBoard 1.15.0 at http://jake-laptop-ubuntu-main:6006/ (Press CTRL+C to quit)\n",
      "W0407 17:02:03.721731 140618841331456 plugin_event_accumulator.py:302] Found more than one metagraph event per run. Overwriting the metagraph with the newest event.\n",
      "W0407 17:02:03.784082 140618841331456 plugin_event_accumulator.py:294] Found more than one graph event per run, or there was a metagraph containing a graph_def, as well as one or more graph events.  Overwriting the graph with the newest event.\n",
      "W0407 17:02:03.828008 140618841331456 plugin_event_accumulator.py:302] Found more than one metagraph event per run. Overwriting the metagraph with the newest event.\n",
      "W0407 17:02:03.882498 140618841331456 plugin_event_accumulator.py:294] Found more than one graph event per run, or there was a metagraph containing a graph_def, as well as one or more graph events.  Overwriting the graph with the newest event.\n",
      "W0407 17:02:03.912307 140618841331456 plugin_event_accumulator.py:302] Found more than one metagraph event per run. Overwriting the metagraph with the newest event.\n",
      "W0407 17:02:03.989269 140618841331456 plugin_event_accumulator.py:294] Found more than one graph event per run, or there was a metagraph containing a graph_def, as well as one or more graph events.  Overwriting the graph with the newest event.\n",
      "W0407 17:02:03.992245 140618841331456 plugin_event_accumulator.py:302] Found more than one metagraph event per run. Overwriting the metagraph with the newest event.\n"
     ]
    }
   ],
   "source": [
    "! tensorboard --logdir=training"
   ]
  },
  {
   "cell_type": "code",
   "execution_count": 14,
   "id": "geological-wrong",
   "metadata": {},
   "outputs": [],
   "source": []
  },
  {
   "cell_type": "code",
   "execution_count": null,
   "id": "intense-interim",
   "metadata": {},
   "outputs": [],
   "source": []
  }
 ],
 "metadata": {
  "kernelspec": {
   "display_name": "tf1",
   "language": "python",
   "name": "tf1"
  },
  "language_info": {
   "codemirror_mode": {
    "name": "ipython",
    "version": 3
   },
   "file_extension": ".py",
   "mimetype": "text/x-python",
   "name": "python",
   "nbconvert_exporter": "python",
   "pygments_lexer": "ipython3",
   "version": "3.6.9"
  }
 },
 "nbformat": 4,
 "nbformat_minor": 5
}
